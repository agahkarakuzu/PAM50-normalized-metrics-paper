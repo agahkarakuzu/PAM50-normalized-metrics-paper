{
 "cells": [
  {
   "cell_type": "markdown",
   "metadata": {
    "tags": []
   },
   "source": [
    "<p>\n",
    "<center>\n",
    "<b>\n",
    "<h3>\n",
    "A database of the healthy human spinal cord morphometry in the PAM50 template space\n",
    "</h3>\n",
    "\n",
    "<p style=\"text-align:center;\">\n",
    "Jan Valošek<sup>*1,2,3,4</sup>, Sandrine Bédard<sup>*1</sup>, Miloš Keřkovský<sup>5</sup>, Tomáš Rohan<sup>5</sup>, Julien Cohen-Adad<sup>1,2,6,7</sup>\n",
    "</p>\n",
    "</b>\n",
    "\n",
    "<ul style=\"list-style-type: none\">\n",
    "<li><sup>*</sup> Shared co-first authorship - authors contributed equally</li>\n",
    "<li><sup>1</sup>NeuroPoly Lab, Institute of Biomedical Engineering, Polytechnique Montreal, Montreal, QC, Canada</li>\n",
    "<li><sup>2</sup>Mila - Quebec AI Institute, Montreal, QC, Canada</li>\n",
    "<li><sup>3</sup>Department of Neurosurgery, Faculty of Medicine and Dentistry, Palacký University Olomouc, Olomouc, Czechia</li>\n",
    "<li><sup>4</sup>Department of Neurology, Faculty of Medicine and Dentistry, Palacký University Olomouc, Olomouc, Czechia</li>\n",
    "<li><sup>5</sup>Department of Radiology and Nuclear Medicine, University Hospital Brno and Masaryk University, Brno, Czechia</li>\n",
    "<li><sup>6</sup>Functional Neuroimaging Unit, CRIUGM, Université de Montréal, Montreal, QC, Canada</li>\n",
    "<li><sup>7</sup>Centre de Recherche du CHU Sainte-Justine, Université de Montréal, Montreal, QC, Canada</li>\n",
    "</ul>\n",
    "</center>\n",
    "</p>\n",
    "\n"
   ]
  },
  {
   "cell_type": "markdown",
   "metadata": {},
   "source": [
    "# Abstract\n",
    "\n",
    "<p style=\"text-align:justify;\">\n",
    "Measures of spinal cord morphometry computed from magnetic resonance images serve as relevant prognostic biomarkers for a range of spinal cord pathologies, including traumatic and non-traumatic spinal cord injury and neurodegenerative diseases. However, interpreting these imaging biomarkers is difficult due to considerable intra- and inter-subject variability. Yet, there is no clear consensus on a normalization method that would help reduce this variability and more insights into the distribution of these morphometrics are needed. In this study, we computed a database of normative values for six commonly used measures of spinal cord morphometry: cross-sectional area, anteroposterior diameter, transverse diameter, compression ratio, eccentricity, and solidity. Normative values were computed from a large open-access dataset of healthy adult volunteers (N = 203) and were brought to the common space of the PAM50 spinal cord template using a newly proposed normalization method based on linear interpolation. In comparison to traditional image-based registration, the proposed normalization approach does not involve image transformations and, therefore, does not introduce distortions of spinal cord anatomy. This is a crucial consideration in preserving the integrity of the spinal cord anatomy in conditions such as spinal cord injury. This new morphometric database allows researchers to normalize based on sex and age, thereby minimizing inter-subject variability associated with demographic and biological factors. The proposed methodology is open-source and accessible through the Spinal Cord Toolbox (SCT) v6.0 and higher.\n",
    "</p>"
   ]
  },
  {
   "cell_type": "markdown",
   "metadata": {},
   "source": [
    "# 1. INTRODUCTION\n",
    "\n",
    "## 1.1 Spinal cord morphometry measures\n",
    "\n",
    "<p style=\"text-align:justify;\">\n",
    "The spinal cord plays a vital role in the central nervous system by transmitting sensory and motor signals between the brain and the rest of the body. It also contains essential networks responsible for functions such as locomotion and pain processing. Structural magnetic resonance imaging (MRI) is commonly used to assess spinal cord macrostructure and to compute measures of spinal cord morphometry like cross-sectional area (CSA) or anteroposterior (AP) diameter. The morphometric measures serve as objective indicators to evaluate spinal cord pathologies, such as the extent of spinal cord atrophy in multiple sclerosis (Losseff et al., 1996; Mina et al., 2021; Rocca et al., 2019) and amyotrophic lateral sclerosis (El Mendili et al., 2023; Paquin et al., 2018) or the severity of spinal cord injury and spinal cord compression in traumatic and non-traumatic spinal cord injury, respectively (Badhiwala et al., 2020; David et al., 2019; Miyanji et al., 2007).\n",
    "</p>\n",
    "\n",
    "<p style=\"text-align:justify;\">\n",
    "However, interpreting morphometric measures is challenging due to considerable inter-subject variability associated with demographic and biological factors. For example, significantly smaller CSA is consistently reported in females relative to males (Bédard and Cohen-Adad, 2022; Engl et al., 2013; Mina et al., 2021; Papinutto et al., 2020, 2015; Rashid et al., 2006; Solstrand Dahlberg et al., 2020; Yanase et al., 2006). Similarly, studies showed an association of spinal cord CSA with cervical cord length (Martin et al., 2017a, 2017b; Oh et al., 2014), spinal canal area, and spinal canal diameters (Kesenheimer et al., 2021; Papinutto et al., 2020). Other factors, such as brain volume, intracranial volume, and thalamic volume also showed a strong correlation with spinal cord CSA (Bédard and Cohen-Adad, 2022; Papinutto et al., 2020, 2015; Rashid et al., 2006; Solstrand Dahlberg et al., 2020). \n",
    "</p>\n",
    "\n",
    "<p style=\"text-align:justify;\">\n",
    "As for weight and height, studies showed only a moderate correlation with spinal cord CSA (Papinutto et al., 2020; Yanase et al., 2006) or did not show any significant association (Bédard and Cohen-Adad, 2022; Papinutto et al., 2020; Solstrand Dahlberg et al., 2020). Likewise, only a weak non-significant association was reported between spinal cord CSA and age (Bédard and Cohen-Adad, 2022; Kato et al., 2012; Papinutto et al., 2020; Yanase et al., 2006). A single study with a wide cohort age range reported that CSA increases until about 45 years of age and then begins to decrease (Papinutto et al., 2020).\n",
    "</p>\n",
    "\n",
    "\n",
    "<p style=\"text-align:justify;\">\n",
    "In addition to inter-subject variability, spinal cord anatomy varies depending on the level. Corresponding with anatomical textbooks (Standring, 2020), studies have shown an increase in CSA around levels C4-C5 corresponding to cervical enlargement (De Leener et al., 2018; Frostell et al., 2016; Horáková et al., 2022; Martin et al., 2017b; Mina et al., 2021; Rocca et al., 2019). Then, the spinal cord cross-section becomes smaller, which is mirrored by the decrease in CSA. \n",
    "</p>\n",
    "\n",
    "## 1.2 Normalization strategies\n",
    "\n",
    "<p style=\"text-align:justify;\">\n",
    "Various normalization strategies have been proposed to account for the above-mentioned factors on spinal cord morphometric measures. Sex was used for CSA normalization in several works (Bédard and Cohen-Adad, 2022; Kesenheimer et al., 2021; Papinutto et al., 2020; Rashid et al., 2006). Other studies proposed spinal cord length as a normalization factor (El Mendili et al., 2023; Martin et al., 2017a, 2017b; Oh et al., 2014; Rocca et al., 2019). Additionally, combining spinal cord length with a z-score normalization was proposed to account for variations along the superior-inferior axis (Martin et al., 2017a, 2017b). Another approach taking into account the dependency of spinal cord anatomy on a level involved the normalization of morphometric measures from the compression site using non-compressed levels above and below (Guo et al., 2022; Miyanji et al., 2007). Finally, several studies normalized CSA using the spinal canal and brain metrics, including spinal canal area, spinal canal diameter, brain volume, intracranial volume, thalamic volume, and head size normalization factor (Bédard and Cohen-Adad, 2022; Horsfield et al., 2010; Kesenheimer et al., 2021; Papinutto et al., 2020; Rashid et al., 2006; Rocca et al., 2019). \n",
    "</p>\n",
    "\n",
    "<p style=\"text-align:justify;\">\n",
    "While normalization strategies showed promising outcomes, there is currently no accepted consensus on which method to use (Cohen-Adad et al., 2021a; Papinutto et al., 2020), and their practical implementation may encounter several challenges. First, measuring the spinal cord length and the spinal canal area can be time-consuming due to the absence of reliable automatic measurement techniques. Second, obtaining brain MRI scans, necessary for assessing brain and thalamic volumes, may not be routinely available in spinal cord MRI protocols, and neurodegenerative diseases such as multiple sclerosis can influence brain measurements and potentially introduce bias during normalization.\n",
    "</p>\n",
    "\n",
    "## 1.3 Spinal cord template\n",
    "\n",
    "<p style=\"text-align:justify;\">\n",
    "Similarly to brain studies, spinal cord studies involving multiple subjects frequently rely on templates — standardized, high-resolution images of the human spinal cord used as a reference for comparing and analyzing individual spinal cord scans. A commonly used spinal cord template is the PAM50 (De Leener et al., 2018). The process of aligning individual single-subject images to the template typically involves a series of non-linear image transformations, which may introduce inaccuracies when computing morphometric measures in the PAM50 vs. in the native subject’s space. This is an important consideration, especially in subjects with altered spinal cord anatomy, such as patients with spinal cord injury. \n",
    "</p>\n",
    "\n",
    "## 1.4 Normative values\n",
    "\n",
    "<p style=\"text-align:justify;\">\n",
    "Several multi-subject studies have provided normative values for spinal cord morphometry (De Leener et al., 2018; Frostell et al., 2016; Horáková et al., 2022; Kato et al., 2012; Taso et al., 2016). However, these studies show inconsistency in their reporting. Some authors only provided values for intervertebral discs (De Leener et al., 2018; Horáková et al., 2022), while others presented values averaged across multiple vertebral levels (Taso et al., 2016). Notably, none of these studies have presented normative values separated by sex.\n",
    "</p>\n",
    "\n",
    "## 1.5 Study Objective\n",
    "\n",
    "<p style=\"text-align:justify;\">\n",
    "In this study, we present a database of healthy normative values for six commonly used measures of spinal cord morphometry built using a new fully-automatic normalization approach. The database is interactive, available online [TODO: add link] and allows filtering per sex, age, and MRI vendors. The proposed methodology is open-source, easily accessible through the Spinal Cord Toolbox (SCT) (De Leener et al., 2017), and can be used in future multi-subject studies to minimize inter- and intra-subject variability.\n",
    "</p>"
   ]
  },
  {
   "cell_type": "markdown",
   "metadata": {},
   "source": [
    "# 2. MATERIALS AND METHODS\n",
    "\n",
    "## 2.1 Participants\n",
    "\n",
    "<p style=\"text-align:justify;\">\n",
    "Two hundred and three participants from the <i>spine-generic</i> dataset (multi-subject) were used (Cohen-Adad et al., 2021a). The dataset is open-access, organized according to the Brain Imaging Data Structure (BIDS) standard (Gorgolewski et al., 2016) and managed using git-annex (<a href=\"https://git-annex.branchable.com/\">https://git-annex.branchable.com/</a>) in the following GitHub repository: <a href=\"https://github.com/spine-generic/data-multi-subject/tree/r20230223\">https://github.com/spine-generic/data-multi-subject/tree/r20230223/</a>, release: r20230223.\n",
    "</p>\n",
    "\n",
    "<p style=\"text-align:justify;\">\n",
    "Participants were scanned across 43 centers on 3T MRI scanners from 3 vendors (Siemens, Philips, GE) using the consensus <i>spine-generic</i> acquisition protocol (Cohen-Adad et al., 2021b). For details on sequence parameters, see (Cohen-Adad et al., 2021a, 2021b).\n",
    "</p>\n",
    "\n",
    "<p style=\"text-align:justify;\">\n",
    "Two experienced radiologists (MK, TR) evaluated MRI scans with a focus on the presence of spinal cord compression. Spinal cord compression was defined as a change in spinal cord contour at the level of an intervertebral disc on an axial or sagittal MRI plane compared with that at the midpoint level of neighbouring vertebrae (Kadanka et al., 2017; Keřkovský et al., 2017). Minor abnormalities such as mild disc protrusions, spine misalignment or minimal widening of the spinal cord central canal were not considered significant pathologies. \n",
    "</p>\n",
    "\n",
    "## 2.2 Data pre-processing\n",
    "\n",
    "<p style=\"text-align:justify;\">\n",
    "We used the T2-weighted images (0.8 mm isotropic resolution) covering at least C1 to T1 vertebral levels. The image processing was performed automatically using SCT v6.0 (De Leener et al., 2017). For each participant, the spinal cord was segmented using a deep learning-based algorithm (Gros et al., 2019) and the intervertebral discs were labeled (Ullmann et al., 2014) to generate the cord segmentation labeled with vertebral levels (Figure 1A).\n",
    "</p>\n",
    "\n",
    "<p style=\"text-align:justify;\">\n",
    "The spinal cord segmentation and disc labels were visually inspected using SCT’s quality control report (<i>sct_qc</i> function) and manually corrected when necessary. The manual corrections ensured that the spinal cord segmentation masks used for the computation of morphometric measures were reliable. Segmentation masks were corrected using FSLeyes image viewer (<a href=\"https://fsl.fmrib.ox.ac.uk/fsl/fslwiki/FSLeyes\">https://fsl.fmrib.ox.ac.uk/fsl/fslwiki/FSLeyes</a>) by adding or removing voxels when appropriate. Regarding vertebral labeling corrections, we manually identified the posterior tip of the intervertebral discs using SCT’s <i>sct_label_utils</i> function when it was necessary.\n",
    "</p>\n",
    "\n",
    "## 2.3 Normalization\n",
    "\n",
    "<p style=\"text-align:justify;\">\n",
    "Figure 1 shows a schematic representation of the fully-automatic normalization approach based on linear interpolation of morphometric measures from the subject’s native space to the anatomical dimensions of the PAM50 spinal cord template (De Leener et al., 2018).\n",
    "</p>\n",
    "\n",
    "<p style=\"text-align:justify;\">\n",
    "After the preprocessing (i.e., spinal cord segmentation and labeling), the morphometric measures were computed across individual axial slices from the spinal cord segmentation mask in the subject’s native space. Then, the number of axial slices corresponding to each vertebral level was identified in both the subject’s native space and in the PAM50 template based on the labeled segmentation. Finally, the computed morphometric measures were linearly interpolated to the PAM50 anatomical dimensions based on the number of slices for each vertebral level in the native space and the PAM50 template.\n",
    "</p>"
   ]
  },
  {
   "cell_type": "markdown",
   "metadata": {},
   "source": [
    "```{image} images/fig1.png\n",
    "---\n",
    "width: 900px\n",
    "name: fig1\n",
    "align: center\n",
    "---\n",
    "```\n",
    "\n",
    "<p></p>\n",
    "\n",
    "<p class=\"caption\">\n",
    "<b>FIGURE 1</b> Schematic representation of the normalization approach. <b>(A)</b> T2-weighted images of 203 participants from the <i>spine-generic</i> dataset (multi-subject) were used. The spinal cord was segmented, and vertebral levels were identified automatically using the Spinal Cord Toolbox (SCT). <b>(B)</b> Six morphometric measures were computed for each axial slice from the single-subject segmentation masks. <b>(C)</b> For each level, the number of slices in the subject native space and the corresponding level in the PAM50 template <b>(D)</b> were identified. Then, the morphometric measures were linearly interpolated to the PAM50 space using the number of slices in the PAM50 template and the subject native space for each vertebral level.\n",
    "</p>"
   ]
  },
  {
   "cell_type": "markdown",
   "metadata": {},
   "source": [
    "<p style=\"text-align:justify;\">\n",
    "The following morphometric measures were computed using SCT’s <i>sct_process_segmentation</i> for each participant: cross-sectional area (CSA), anteroposterior (AP) diameter, transverse diameter, compression ratio, eccentricity, and solidity. \n",
    "</p>\n",
    "\n",
    "<p style=\"text-align:justify;\">\n",
    "Spinal cord CSA reflects the atrophy of the spinal cord and is computed as the area of the spinal cord in the transverse plane. The AP diameter is the measurement of the diameter of the spinal cord in the anterior-posterior direction, while the transverse diameter is the measurement of the diameter of the spinal cord from side to side. The compression ratio reflects the flattening of the spinal cord and is defined as the ratio of the AP diameter and the transverse diameter. Eccentricity is defined as the ratio of the focal distance over the major axis length of an ellipse with the same second moments as the spinal cord. The value is in the interval [0, 1]. When it is 0, the ellipse becomes a circle. Solidity is used to measure the indentation of the spinal cord and is defined as the ratio of the area representing the spinal cord to the area of the smallest convex polygon surrounding all positive pixels in the image. If it is a perfect ellipse, solidity has the value of 1. Solidity is relevant in detecting non-convex shapes, for instance, in subjects with spinal cord compression.\n",
    "</p>\n",
    "\n",
    "## 2.4 Normative values and Interactive database\n",
    "\n",
    "<p style=\"text-align:justify;\">\n",
    "Morphometric measures normalized to the PAM50 space were used for the calculation of normative values of the spinal cord morphometry. The normative values were calculated as mean and standard deviation across participants for slices in PAM50 space corresponding to each intervertebral disc and the middle of each vertebral level. The normative values are provided for the whole cohort and separated by sex.\n",
    "For convenient introspection of the morphometric measures, interactive figures were created using the Plotly Python library v5.9.0 (<a href=\"https://plotly.com\">https://plotly.com</a>). The figures allow interactive visualization of normative values for any slice in the PAM50 space and filtering for sex, age decades, and MRI vendors. The figures show values per slice (not vertebral level) to avoid averaging within each vertebral level, which would cause a loss of information. \n",
    "</p>\n",
    "\n",
    "## 2.5 Statistical analysis\n",
    "\n",
    "<p style=\"text-align:justify;\">\n",
    "Statistical analysis was conducted using the SciPy Python library v1.10.1 (Virtanen et al., 2020). Descriptive statistics, including mean and standard deviation, were computed for age, height, and weight. The Shapiro-Wilk normality test was used to assess data normality. Differences between males and females in age, height, and weight were examined using the Wilcoxon rank-sum test. Morphometric measures in PAM50 space were averaged across participants for each slice and compared between sex and MRI vendors using the Wilcoxon rank-sum test. The significance level was set to alpha = 0.001.\n",
    "The inter-subject coefficient of variation (COV), defined as the ratio of standard deviation and mean, was computed per slice for all morphometrics measures. The COV was then averaged for individual vertebral levels. Additionally, the mean COV for the whole cervical spinal cord was computed as average across all slices.\n",
    "</p>"
   ]
  },
  {
   "cell_type": "markdown",
   "metadata": {},
   "source": [
    "# 3. RESULTS\n",
    "\n",
    "## 3.1 Participants\n",
    "\n",
    "<p style=\"text-align:justify;\">\n",
    "Qualitative assessment of the spine-generic dataset by two experienced radiologists revealed mostly mild spinal cord compression in 64 out of the total 267 volunteers (see the “pathology” column in <a href=\"https://github.com/spine-generic/data-multi-subject/blob/r20230223/participants.tsv\">https://github.com/spine-generic/data-multi-subject/blob/r20230223/participants.tsv</a>). Those volunteers were excluded from the further analysis. The final cohort used for the normative database construction consisted of 203 healthy subjects (105 males and 98 females). Detailed demographic characteristics are provided in Table 1.\n",
    "</p>"
   ]
  },
  {
   "cell_type": "code",
   "execution_count": null,
   "metadata": {},
   "outputs": [],
   "source": [
    "import os\n",
    "\n",
    "cwd = os.getcwd()\n",
    "os.chdir('analysis/notebooks')\n",
    "from tables import table_demographic_characteristics\n",
    "os.chdir(cwd)\n",
    "\n",
    "# Define path to the CSV file\n",
    "path_csv = '../data/PAM50-normalized-metrics-neurolibre/demographic_characteristics.csv'\n",
    "\n",
    "table_demographic_characteristics(path_csv)"
   ]
  },
  {
   "cell_type": "markdown",
   "metadata": {},
   "source": [
    "<p class=\"caption\">\n",
    "<b>TABLE 1</b> The demographic characteristics of subjects included in the normative database. The values are shown as mean and standard deviation.\n",
    "</p>"
   ]
  },
  {
   "cell_type": "markdown",
   "metadata": {},
   "source": [
    "<p style=\"text-align:justify;\">\n",
    "\n",
    "</p>\n",
    "\n",
    "<p style=\"text-align:justify;\">\n",
    "\n",
    "</p>"
   ]
  },
  {
   "cell_type": "markdown",
   "metadata": {},
   "source": [
    "## 3.2 Normalization\n",
    "\n",
    "<p style=\"text-align:justify;\">\n",
    "The normalized morphometric measures saved as comma-separated value (CSV) files (one file per subject) are accessible in this GitHub repository: <a href=\"https://github.com/spinalcordtoolbox/PAM50-normalized-metrics/tree/r20230222\">https://github.com/spinalcordtoolbox/PAM50-normalized-metrics/tree/r20230222</a> (release: r20230223). \n",
    "The normalization method is implemented in the Python programming language and is available through the SCT’s <i>sct_process_segmentation</i> as part of SCT v6.0 and higher.\n",
    "</p>\n",
    "\n",
    "## 3.3 Morphometric measures - Variation across vertebral levels\n",
    "\n",
    "<p style=\"text-align:justify;\">\n",
    "Figure 2 shows morphometric measures plotted across individual slices with vertebral levels identified on the plot. Values were calculated as mean and standard deviation across 203 participants for each slice in the PAM50 space.\n",
    "</p>"
   ]
  },
  {
   "cell_type": "code",
   "execution_count": null,
   "metadata": {},
   "outputs": [],
   "source": [
    "import os\n",
    "\n",
    "cwd = os.getcwd()\n",
    "os.chdir('analysis/notebooks')\n",
    "from utils import read_metrics, create_subplot\n",
    "os.chdir(cwd)\n",
    "\n",
    "# Define path to the CSV file\n",
    "path_csv = '../data/PAM50-normalized-metrics-neurolibre/spine-generic_subjects_aggregated_metrics.csv'\n",
    "# Read the CSV file\n",
    "df = read_metrics(path_csv)\n",
    "\n",
    "create_subplot(df)"
   ]
  },
  {
   "cell_type": "markdown",
   "metadata": {},
   "source": [
    "<p></p>\n",
    "\n",
    "<p class=\"caption\">\n",
    "<b>FIGURE 2</b> Spinal cord morphometric measures of 203 healthy participants across slices from C1 to T1 vertebral level. \n",
    "</p>"
   ]
  },
  {
   "cell_type": "code",
   "execution_count": null,
   "metadata": {},
   "outputs": [],
   "source": []
  }
 ],
 "metadata": {
  "celltoolbar": "Edit Metadata",
  "kernelspec": {
   "display_name": "Python 3 (ipykernel)",
   "language": "python",
   "name": "python3"
  },
  "language_info": {
   "codemirror_mode": {
    "name": "ipython",
    "version": 3
   },
   "file_extension": ".py",
   "mimetype": "text/x-python",
   "name": "python",
   "nbconvert_exporter": "python",
   "pygments_lexer": "ipython3",
   "version": "3.11.3"
  }
 },
 "nbformat": 4,
 "nbformat_minor": 4
}
